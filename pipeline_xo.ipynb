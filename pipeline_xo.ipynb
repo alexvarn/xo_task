{
 "metadata": {
  "language_info": {
   "codemirror_mode": {
    "name": "ipython",
    "version": 3
   },
   "file_extension": ".py",
   "mimetype": "text/x-python",
   "name": "python",
   "nbconvert_exporter": "python",
   "pygments_lexer": "ipython3",
   "version": "3.8.5-final"
  },
  "orig_nbformat": 2,
  "kernelspec": {
   "name": "python3",
   "display_name": "Python 3",
   "language": "python"
  }
 },
 "nbformat": 4,
 "nbformat_minor": 2,
 "cells": [
  {
   "cell_type": "code",
   "execution_count": 1,
   "metadata": {},
   "outputs": [],
   "source": [
    "import pandas as pd\n",
    "import string\n",
    "import os\n",
    "import gspread\n",
    "from oauth2client.service_account import ServiceAccountCredentials"
   ]
  },
  {
   "cell_type": "code",
   "execution_count": 2,
   "metadata": {},
   "outputs": [],
   "source": [
    "JSON_KEY = 'CRED.json'\n",
    "os.environ[\"GOOGLE_APPLICATION_CREDENTIALS\"] = JSON_KEY\n",
    "scope = ['https://spreadsheets.google.com/feeds']\n",
    "url_download = 'https://docs.google.com/spreadsheets/d/1Ycg7zTxds9DZnDvTrFcyNNKuTUxg6Yy6WF0a8Wc02WQ/edit#gid=0'\n",
    "url_upload = 'https://docs.google.com/spreadsheets/d/1y2QKVKT4YlsntXtaugQ6lzfuDXypURhU8kXdGiKx1Pg/edit'\n"
   ]
  },
  {
   "cell_type": "code",
   "execution_count": 3,
   "metadata": {},
   "outputs": [],
   "source": [
    "def google_sheet_auth(worksheet_name,scope=scope, json_key= JSON_KEY, sheet_url= url_download):\n",
    "    \"\"\"\n",
    "    Выполнение авторизации в google sheet при помощи gspread и\n",
    "    ServiceAccountCredentials.\n",
    "\n",
    "    Parameters:\n",
    "    ----------\n",
    "    scope: List of string variables,\n",
    "        Describes URL of all servises of google sheet api that is necessary\n",
    "        to gain access.\n",
    "    json_key: String, global constant\n",
    "        Contains path to .json key of ETL-TO-BIGQUERY project.\n",
    "    sheet_url: String\n",
    "    worksheet_name: String\n",
    "\n",
    "    Returns:\n",
    "    -------\n",
    "    worksheet: gspread object\n",
    "    \"\"\"\n",
    "    credentials = ServiceAccountCredentials.from_json_keyfile_name(json_key, scope)\n",
    "    gc = gspread.authorize(credentials)\n",
    "    sheet = gc.open_by_url(sheet_url)\n",
    "    worksheet = sheet.worksheet(worksheet_name)\n",
    "    return worksheet"
   ]
  },
  {
   "cell_type": "code",
   "execution_count": 4,
   "metadata": {},
   "outputs": [],
   "source": [
    "#download data from spreadsheets to pandas Dataframes\n",
    "data = google_sheet_auth(worksheet_name = 'transactions').get_all_values()\n",
    "transactions_df = pd.DataFrame(data[1:], columns=data[0])\n",
    "data = google_sheet_auth(worksheet_name = 'leads').get_all_values()\n",
    "leads_df = pd.DataFrame(data[1:], columns=data[0])\n",
    "data = google_sheet_auth(worksheet_name = 'clients').get_all_values()\n",
    "clients_df = pd.DataFrame(data[1:], columns=data[0])\n",
    "data = google_sheet_auth(worksheet_name = 'managers').get_all_values()\n",
    "managers_df = pd.DataFrame(data[1:], columns=data[0])"
   ]
  },
  {
   "cell_type": "code",
   "execution_count": 5,
   "metadata": {},
   "outputs": [],
   "source": [
    "#rename columns\n",
    "transactions_df.rename(columns={'created_at':'trans_created_at'}, inplace=True)\n",
    "leads_df.rename(columns={'created_at':'lead_created_at'}, inplace=True)\n",
    "clients_df.rename(columns={'created_at':'client_created_at'}, inplace=True)"
   ]
  },
  {
   "cell_type": "code",
   "execution_count": 6,
   "metadata": {},
   "outputs": [],
   "source": [
    "#parse datetime\n",
    "clients_df.client_created_at = pd.to_datetime(clients_df.client_created_at, errors='coerce')\n",
    "leads_df.lead_created_at = pd.to_datetime(leads_df.lead_created_at, errors='coerce')\n",
    "transactions_df.trans_created_at = pd.to_datetime(transactions_df.trans_created_at, errors='coerce')"
   ]
  },
  {
   "cell_type": "code",
   "execution_count": 7,
   "metadata": {},
   "outputs": [],
   "source": [
    "#Metrics \n",
    "#заявок\n",
    "leads_df['lead'] = 1  \n",
    "#мусорных заявок\n",
    "leads_df['garbage'] = (leads_df['l_client_id'] == '00000000-0000-0000-0000-000000000000').astype('int')"
   ]
  },
  {
   "cell_type": "code",
   "execution_count": 8,
   "metadata": {},
   "outputs": [],
   "source": [
    "#формируем промежуточный результат\n",
    "result = managers_df.merge(leads_df, left_on='manager_id', right_on='l_manager_id', how='right')\n",
    "#количество покупок на одного покупателя за неделю после получения заявки\n",
    "leads_and_trancastions = leads_df.merge(transactions_df, on='l_client_id', how='left')\n",
    "leads_and_trancastions['num_buyes'] = ((leads_and_trancastions.trans_created_at > leads_and_trancastions.lead_created_at) & \\\n",
    "                 ((leads_and_trancastions.trans_created_at - leads_and_trancastions.lead_created_at) < pd.Timedelta(\"7 days\"))).astype('int')\n",
    "#update result\n",
    "result = result.merge(leads_and_trancastions.groupby('lead_id').agg({'num_buyes':'sum'}), on='lead_id')       "
   ]
  },
  {
   "cell_type": "code",
   "execution_count": 9,
   "metadata": {},
   "outputs": [],
   "source": [
    "#количество новых заявок (не было заявок и покупок от этого клиента раньше)\n",
    "client_stats = leads_and_trancastions.groupby('l_client_id').agg({'lead_id':pd.Series.nunique, \n",
    "                               'transaction_id':pd.Series.nunique, \n",
    "                               'lead_created_at':'min', \n",
    "                               'trans_created_at':'min'}) \\\n",
    "                        .rename(columns={'lead_id':'num_leads', 'transaction_id':'num_trans',\n",
    "                                         'lead_created_at':'first_lead_created', 'trans_created_at':'first_trans_created'}) \\\n",
    "                        .sort_values('num_leads', ascending=False)\n",
    "result = result.merge(client_stats, on='l_client_id')\n",
    "result['new_lead'] = (((result.num_trans == 0) | (result.lead_created_at <= result.first_trans_created)) & \\\n",
    "    (result.lead_created_at == result.first_lead_created)).astype('int') "
   ]
  },
  {
   "cell_type": "code",
   "execution_count": 10,
   "metadata": {},
   "outputs": [],
   "source": [
    "#количество заявок с возвратами новых клиентов (не было покупок от этого клиента раньше, но были заявки)\n",
    "result['return_new_client'] = ((result.num_leads > 1) & \n",
    "                                (result.num_trans == 0) & \n",
    "                                (result.lead_created_at > result.first_lead_created)).astype('int')\n",
    "#количество покупателей (кто купил в течение недели после заявки)\n",
    "result['buyer'] = (result.num_buyes >= 1).astype('int')\n",
    "#количество новых покупателей (кто купил в течение недели после заявки, и не покупал раньше)\n",
    "result['new_buyer'] = ((result.buyer == 1) & (result.first_trans_created > result.lead_created_at)).astype('int')"
   ]
  },
  {
   "cell_type": "code",
   "execution_count": 11,
   "metadata": {},
   "outputs": [],
   "source": [
    "#доход от покупок, сделанных в течение недели после получения заявки\n",
    "leads_and_trancastions[leads_and_trancastions['num_buyes'] > 0].groupby('lead_id').agg({'m_real_amount':'sum'})\n",
    "result = result.merge(leads_and_trancastions[leads_and_trancastions['num_buyes'] > 0].groupby('lead_id').agg({'m_real_amount':'sum'}),\n",
    "                        on='lead_id', how='left')\n",
    "result['m_real_amount'].fillna(0, inplace=True)"
   ]
  },
  {
   "cell_type": "code",
   "execution_count": 12,
   "metadata": {},
   "outputs": [],
   "source": [
    "#формируем дату\n",
    "result['date'] = result.lead_created_at.apply(lambda x: x.isoformat().split('T')[0])"
   ]
  },
  {
   "cell_type": "code",
   "execution_count": 13,
   "metadata": {},
   "outputs": [],
   "source": [
    "#clear result\n",
    "columns_to_drop = ['lead_id', 'lead_created_at', 'd_utm_medium','l_client_id','num_leads', \n",
    "                    'num_trans', 'first_lead_created', 'first_trans_created']\n",
    "upload = result.drop(columns_to_drop, axis=1)"
   ]
  },
  {
   "cell_type": "code",
   "execution_count": 14,
   "metadata": {},
   "outputs": [
    {
     "output_type": "execute_result",
     "data": {
      "text/plain": [
       "'A1:N3338'"
      ]
     },
     "metadata": {},
     "execution_count": 14
    }
   ],
   "source": [
    "#диапазон ячеек\n",
    "ss_range = 'A1:' + string.ascii_uppercase[upload.shape[1]-1] + str(upload.shape[0] + 1)\n",
    "ss_range"
   ]
  },
  {
   "cell_type": "code",
   "execution_count": 15,
   "metadata": {},
   "outputs": [],
   "source": [
    "#готовим данные для загрузки\n",
    "title = list()\n",
    "values_to_ss = list()\n",
    "for col in upload.columns: title.append(col)\n",
    "values_to_ss.append(title)\n",
    "for item in range(upload.shape[0]):\n",
    "        values_to_ss.append([str(upload[column][item]) for column in upload.columns])"
   ]
  },
  {
   "cell_type": "code",
   "execution_count": 16,
   "metadata": {},
   "outputs": [
    {
     "output_type": "execute_result",
     "data": {
      "text/plain": [
       "{'spreadsheetId': '1y2QKVKT4YlsntXtaugQ6lzfuDXypURhU8kXdGiKx1Pg',\n",
       " 'updatedRange': 'sheet2!A1:N3338',\n",
       " 'updatedRows': 3338,\n",
       " 'updatedColumns': 14,\n",
       " 'updatedCells': 46732}"
      ]
     },
     "metadata": {},
     "execution_count": 16
    }
   ],
   "source": [
    "#upload result\n",
    "upload_worksheet = google_sheet_auth(\n",
    "    scope = ['https://spreadsheets.google.com/feeds'],\n",
    "    json_key = JSON_KEY,\n",
    "    sheet_url = url_upload,\n",
    "    worksheet_name = 'sheet1')\n",
    "upload_worksheet.update(ss_range, values_to_ss)"
   ]
  },
  {
   "cell_type": "code",
   "execution_count": null,
   "metadata": {},
   "outputs": [],
   "source": []
  }
 ]
}